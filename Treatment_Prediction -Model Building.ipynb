{
 "cells": [
  {
   "cell_type": "code",
   "execution_count": 62,
   "metadata": {},
   "outputs": [],
   "source": [
    "# Import libraries\n",
    "import pandas as pd\n",
    "import numpy as np\n",
    "%matplotlib inline"
   ]
  },
  {
   "cell_type": "code",
   "execution_count": 2,
   "metadata": {},
   "outputs": [],
   "source": [
    "# Load Data\n",
    "df = pd.read_csv('trainms.csv')"
   ]
  },
  {
   "cell_type": "code",
   "execution_count": 3,
   "metadata": {},
   "outputs": [
    {
     "data": {
      "text/html": [
       "<div>\n",
       "<style scoped>\n",
       "    .dataframe tbody tr th:only-of-type {\n",
       "        vertical-align: middle;\n",
       "    }\n",
       "\n",
       "    .dataframe tbody tr th {\n",
       "        vertical-align: top;\n",
       "    }\n",
       "\n",
       "    .dataframe thead th {\n",
       "        text-align: right;\n",
       "    }\n",
       "</style>\n",
       "<table border=\"1\" class=\"dataframe\">\n",
       "  <thead>\n",
       "    <tr style=\"text-align: right;\">\n",
       "      <th></th>\n",
       "      <th>s.no</th>\n",
       "      <th>Timestamp</th>\n",
       "      <th>Age</th>\n",
       "      <th>Gender</th>\n",
       "      <th>Country</th>\n",
       "      <th>state</th>\n",
       "      <th>self_employed</th>\n",
       "      <th>family_history</th>\n",
       "      <th>treatment</th>\n",
       "      <th>work_interfere</th>\n",
       "      <th>...</th>\n",
       "      <th>leave</th>\n",
       "      <th>mental_health_consequence</th>\n",
       "      <th>phys_health_consequence</th>\n",
       "      <th>coworkers</th>\n",
       "      <th>supervisor</th>\n",
       "      <th>mental_health_interview</th>\n",
       "      <th>phys_health_interview</th>\n",
       "      <th>mental_vs_physical</th>\n",
       "      <th>obs_consequence</th>\n",
       "      <th>comments</th>\n",
       "    </tr>\n",
       "  </thead>\n",
       "  <tbody>\n",
       "    <tr>\n",
       "      <th>0</th>\n",
       "      <td>1</td>\n",
       "      <td>2014-08-27 11:29:31</td>\n",
       "      <td>37</td>\n",
       "      <td>Female</td>\n",
       "      <td>United States</td>\n",
       "      <td>IL</td>\n",
       "      <td>NaN</td>\n",
       "      <td>No</td>\n",
       "      <td>Yes</td>\n",
       "      <td>Often</td>\n",
       "      <td>...</td>\n",
       "      <td>Somewhat easy</td>\n",
       "      <td>No</td>\n",
       "      <td>No</td>\n",
       "      <td>Some of them</td>\n",
       "      <td>Yes</td>\n",
       "      <td>No</td>\n",
       "      <td>Maybe</td>\n",
       "      <td>Yes</td>\n",
       "      <td>No</td>\n",
       "      <td>NaN</td>\n",
       "    </tr>\n",
       "    <tr>\n",
       "      <th>1</th>\n",
       "      <td>2</td>\n",
       "      <td>2014-08-27 11:29:37</td>\n",
       "      <td>44</td>\n",
       "      <td>M</td>\n",
       "      <td>United States</td>\n",
       "      <td>IN</td>\n",
       "      <td>NaN</td>\n",
       "      <td>No</td>\n",
       "      <td>No</td>\n",
       "      <td>Rarely</td>\n",
       "      <td>...</td>\n",
       "      <td>Don't know</td>\n",
       "      <td>Maybe</td>\n",
       "      <td>No</td>\n",
       "      <td>No</td>\n",
       "      <td>No</td>\n",
       "      <td>No</td>\n",
       "      <td>No</td>\n",
       "      <td>Don't know</td>\n",
       "      <td>No</td>\n",
       "      <td>NaN</td>\n",
       "    </tr>\n",
       "    <tr>\n",
       "      <th>2</th>\n",
       "      <td>3</td>\n",
       "      <td>2014-08-27 11:29:44</td>\n",
       "      <td>32</td>\n",
       "      <td>Male</td>\n",
       "      <td>Canada</td>\n",
       "      <td>NaN</td>\n",
       "      <td>NaN</td>\n",
       "      <td>No</td>\n",
       "      <td>No</td>\n",
       "      <td>Rarely</td>\n",
       "      <td>...</td>\n",
       "      <td>Somewhat difficult</td>\n",
       "      <td>No</td>\n",
       "      <td>No</td>\n",
       "      <td>Yes</td>\n",
       "      <td>Yes</td>\n",
       "      <td>Yes</td>\n",
       "      <td>Yes</td>\n",
       "      <td>No</td>\n",
       "      <td>No</td>\n",
       "      <td>NaN</td>\n",
       "    </tr>\n",
       "    <tr>\n",
       "      <th>3</th>\n",
       "      <td>4</td>\n",
       "      <td>2014-08-27 11:29:46</td>\n",
       "      <td>31</td>\n",
       "      <td>Male</td>\n",
       "      <td>United Kingdom</td>\n",
       "      <td>NaN</td>\n",
       "      <td>NaN</td>\n",
       "      <td>Yes</td>\n",
       "      <td>Yes</td>\n",
       "      <td>Often</td>\n",
       "      <td>...</td>\n",
       "      <td>Somewhat difficult</td>\n",
       "      <td>Yes</td>\n",
       "      <td>Yes</td>\n",
       "      <td>Some of them</td>\n",
       "      <td>No</td>\n",
       "      <td>Maybe</td>\n",
       "      <td>Maybe</td>\n",
       "      <td>No</td>\n",
       "      <td>Yes</td>\n",
       "      <td>NaN</td>\n",
       "    </tr>\n",
       "    <tr>\n",
       "      <th>4</th>\n",
       "      <td>5</td>\n",
       "      <td>2014-08-27 11:30:22</td>\n",
       "      <td>31</td>\n",
       "      <td>Male</td>\n",
       "      <td>United States</td>\n",
       "      <td>TX</td>\n",
       "      <td>NaN</td>\n",
       "      <td>No</td>\n",
       "      <td>No</td>\n",
       "      <td>Never</td>\n",
       "      <td>...</td>\n",
       "      <td>Don't know</td>\n",
       "      <td>No</td>\n",
       "      <td>No</td>\n",
       "      <td>Some of them</td>\n",
       "      <td>Yes</td>\n",
       "      <td>Yes</td>\n",
       "      <td>Yes</td>\n",
       "      <td>Don't know</td>\n",
       "      <td>No</td>\n",
       "      <td>NaN</td>\n",
       "    </tr>\n",
       "  </tbody>\n",
       "</table>\n",
       "<p>5 rows × 28 columns</p>\n",
       "</div>"
      ],
      "text/plain": [
       "   s.no            Timestamp  Age  Gender         Country state self_employed  \\\n",
       "0     1  2014-08-27 11:29:31   37  Female   United States    IL           NaN   \n",
       "1     2  2014-08-27 11:29:37   44       M   United States    IN           NaN   \n",
       "2     3  2014-08-27 11:29:44   32    Male          Canada   NaN           NaN   \n",
       "3     4  2014-08-27 11:29:46   31    Male  United Kingdom   NaN           NaN   \n",
       "4     5  2014-08-27 11:30:22   31    Male   United States    TX           NaN   \n",
       "\n",
       "  family_history treatment work_interfere  ...               leave  \\\n",
       "0             No       Yes          Often  ...       Somewhat easy   \n",
       "1             No        No         Rarely  ...          Don't know   \n",
       "2             No        No         Rarely  ...  Somewhat difficult   \n",
       "3            Yes       Yes          Often  ...  Somewhat difficult   \n",
       "4             No        No          Never  ...          Don't know   \n",
       "\n",
       "  mental_health_consequence phys_health_consequence     coworkers supervisor  \\\n",
       "0                        No                      No  Some of them        Yes   \n",
       "1                     Maybe                      No            No         No   \n",
       "2                        No                      No           Yes        Yes   \n",
       "3                       Yes                     Yes  Some of them         No   \n",
       "4                        No                      No  Some of them        Yes   \n",
       "\n",
       "  mental_health_interview phys_health_interview mental_vs_physical  \\\n",
       "0                      No                 Maybe                Yes   \n",
       "1                      No                    No         Don't know   \n",
       "2                     Yes                   Yes                 No   \n",
       "3                   Maybe                 Maybe                 No   \n",
       "4                     Yes                   Yes         Don't know   \n",
       "\n",
       "  obs_consequence comments  \n",
       "0              No      NaN  \n",
       "1              No      NaN  \n",
       "2              No      NaN  \n",
       "3             Yes      NaN  \n",
       "4              No      NaN  \n",
       "\n",
       "[5 rows x 28 columns]"
      ]
     },
     "execution_count": 3,
     "metadata": {},
     "output_type": "execute_result"
    }
   ],
   "source": [
    "df.head()"
   ]
  },
  {
   "cell_type": "code",
   "execution_count": 4,
   "metadata": {},
   "outputs": [
    {
     "data": {
      "text/plain": [
       "array(['s.no', 'Timestamp', 'Age', 'Gender', 'Country', 'state',\n",
       "       'self_employed', 'family_history', 'treatment', 'work_interfere',\n",
       "       'no_employees', 'remote_work', 'tech_company', 'benefits',\n",
       "       'care_options', 'wellness_program', 'seek_help', 'anonymity',\n",
       "       'leave', 'mental_health_consequence', 'phys_health_consequence',\n",
       "       'coworkers', 'supervisor', 'mental_health_interview',\n",
       "       'phys_health_interview', 'mental_vs_physical', 'obs_consequence',\n",
       "       'comments'], dtype=object)"
      ]
     },
     "execution_count": 4,
     "metadata": {},
     "output_type": "execute_result"
    }
   ],
   "source": [
    "df.columns.values"
   ]
  },
  {
   "cell_type": "code",
   "execution_count": 5,
   "metadata": {},
   "outputs": [],
   "source": [
    "# Convert time stamp column data type to datetime\n",
    "df['Timestamp'] = pd.to_datetime(df['Timestamp'])\n",
    "df['Timestamp'] = df['Timestamp'].dt.date"
   ]
  },
  {
   "cell_type": "code",
   "execution_count": null,
   "metadata": {},
   "outputs": [],
   "source": []
  },
  {
   "cell_type": "code",
   "execution_count": 6,
   "metadata": {},
   "outputs": [],
   "source": [
    "# convert invalid data to NaN\n",
    "df.loc[(df['Age'] < 18) |  (df['Age'] > 80),\"Age\"]  = np.nan"
   ]
  },
  {
   "cell_type": "code",
   "execution_count": 7,
   "metadata": {},
   "outputs": [
    {
     "data": {
      "text/plain": [
       "Series([], Name: Age, dtype: float64)"
      ]
     },
     "execution_count": 7,
     "metadata": {},
     "output_type": "execute_result"
    }
   ],
   "source": [
    "df.loc[(df['Age'] < 18) |  (df['Age'] > 80),\"Age\"]"
   ]
  },
  {
   "cell_type": "code",
   "execution_count": 8,
   "metadata": {},
   "outputs": [],
   "source": [
    "# \n",
    "# df['Gender'].value_counts()\n",
    "M_list = [\"male\",\"m\",\"Make\",\"Cis Male\",\"Man\",\"Mal\",\"Male-ish\",\"maile\",\"male leaning androgynous\",\"msle\",\"Mail\",\"cis male\",\"Malr\"]\n",
    "F_list = [\"Female\",\"f\",\"woman\",\"cis female\",\"femake\",\"cis-female/femme\",\"female (cis)\",\"femail\"]\n",
    "T_list = [\"queer\",\"trans-female\",\"female (trans)\",\"neuter\",\"non-binary\",\"enby\",\"genderqueer\",\"agender\",\"androgyne\",\"trans woman\",\"fluid\",\"ostensibly male, unsure what that really means\",\"something kinda male?\",\"Guy (-ish) ^_^\",\"nah\",\"a little about you\",\"p\"]"
   ]
  },
  {
   "cell_type": "code",
   "execution_count": 9,
   "metadata": {},
   "outputs": [
    {
     "data": {
      "text/plain": [
       "male                        659\n",
       "female                      139\n",
       "m                           121\n",
       "f                            44\n",
       "make                          4\n",
       "woman                         3\n",
       "cis male                      3\n",
       "man                           2\n",
       "non-binary                    1\n",
       "msle                          1\n",
       "agender                       1\n",
       "nah                           1\n",
       "trans-female                  1\n",
       "trans woman                   1\n",
       "cis female                    1\n",
       "mal                           1\n",
       "androgyne                     1\n",
       "maile                         1\n",
       "guy (-ish) ^_^                1\n",
       "queer                         1\n",
       "neuter                        1\n",
       "something kinda male?         1\n",
       "a little about you            1\n",
       "enby                          1\n",
       "male-ish                      1\n",
       "genderqueer                   1\n",
       "male leaning androgynous      1\n",
       "female (trans)                1\n",
       "cis-female/femme              1\n",
       "fluid                         1\n",
       "female (cis)                  1\n",
       "femake                        1\n",
       "mail                          1\n",
       "Name: Gender, dtype: int64"
      ]
     },
     "execution_count": 9,
     "metadata": {},
     "output_type": "execute_result"
    }
   ],
   "source": [
    "df['Gender'].str.lower().str.strip().value_counts()"
   ]
  },
  {
   "cell_type": "code",
   "execution_count": 10,
   "metadata": {},
   "outputs": [],
   "source": [
    "df.loc[df['Gender'].str.lower().str.strip().isin([x.lower().strip() for x in M_list]),\"Gender\"] = \"M\"\n",
    "df.loc[df['Gender'].str.lower().str.strip().isin([x.lower().strip() for x in F_list]),\"Gender\"] = \"F\"\n",
    "df.loc[df['Gender'].str.lower().str.strip().isin([x.lower().strip() for x in T_list]),\"Gender\"] = \"T\"\n",
    "# df.loc[df['Gender'].isin([M_list]),\"Gender\"]=\"M\""
   ]
  },
  {
   "cell_type": "code",
   "execution_count": 11,
   "metadata": {},
   "outputs": [],
   "source": [
    "#Set state NaN if country not United States\n",
    "df.loc[(df[\"Country\"] != \"United States\"),\"state\"] = \"Other\""
   ]
  },
  {
   "cell_type": "code",
   "execution_count": 12,
   "metadata": {},
   "outputs": [],
   "source": [
    "df.loc[(df[\"state\"].isnull()),\"state\"] = \"Other\"\n",
    "df.loc[(df[\"self_employed\"].isnull()),\"self_employed\"] = \"Other\""
   ]
  },
  {
   "cell_type": "code",
   "execution_count": 13,
   "metadata": {},
   "outputs": [
    {
     "name": "stdout",
     "output_type": "stream",
     "text": [
      "Other    403\n",
      "CA       119\n",
      "WA        59\n",
      "NY        46\n",
      "TX        37\n",
      "TN        36\n",
      "OR        23\n",
      "PA        23\n",
      "OH        22\n",
      "MA        20\n",
      "IL        20\n",
      "MI        19\n",
      "IN        15\n",
      "MN        14\n",
      "VA        12\n",
      "MO        11\n",
      "GA        10\n",
      "FL         9\n",
      "WI         9\n",
      "NC         9\n",
      "CO         9\n",
      "AZ         7\n",
      "MD         6\n",
      "UT         6\n",
      "OK         5\n",
      "KY         5\n",
      "SC         4\n",
      "DC         4\n",
      "AL         4\n",
      "IA         4\n",
      "KS         3\n",
      "NJ         3\n",
      "CT         3\n",
      "NV         3\n",
      "NH         3\n",
      "VT         2\n",
      "NE         2\n",
      "NM         2\n",
      "WY         2\n",
      "MS         1\n",
      "ME         1\n",
      "WV         1\n",
      "ID         1\n",
      "LA         1\n",
      "RI         1\n",
      "SD         1\n",
      "Name: state, dtype: int64\n"
     ]
    },
    {
     "data": {
      "text/plain": [
       "No       859\n",
       "Yes      123\n",
       "Other     18\n",
       "Name: self_employed, dtype: int64"
      ]
     },
     "execution_count": 13,
     "metadata": {},
     "output_type": "execute_result"
    }
   ],
   "source": [
    "print(df[\"state\"].value_counts())\n",
    "df[\"self_employed\"].value_counts()"
   ]
  },
  {
   "cell_type": "code",
   "execution_count": 14,
   "metadata": {},
   "outputs": [
    {
     "data": {
      "text/plain": [
       "No     619\n",
       "Yes    381\n",
       "Name: family_history, dtype: int64"
      ]
     },
     "execution_count": 14,
     "metadata": {},
     "output_type": "execute_result"
    }
   ],
   "source": [
    "df[\"family_history\"].value_counts()"
   ]
  },
  {
   "cell_type": "code",
   "execution_count": 15,
   "metadata": {},
   "outputs": [
    {
     "data": {
      "text/plain": [
       "Sometimes    362\n",
       "Never        171\n",
       "Rarely       142\n",
       "Often         99\n",
       "Name: work_interfere, dtype: int64"
      ]
     },
     "execution_count": 15,
     "metadata": {},
     "output_type": "execute_result"
    }
   ],
   "source": [
    "df[\"work_interfere\"].value_counts()"
   ]
  },
  {
   "cell_type": "code",
   "execution_count": 16,
   "metadata": {},
   "outputs": [],
   "source": [
    "df.loc[(df[\"work_interfere\"].isnull() ),\"work_interfere\"] = \"Not Ill\""
   ]
  },
  {
   "cell_type": "code",
   "execution_count": 17,
   "metadata": {},
   "outputs": [
    {
     "data": {
      "text/plain": [
       "6-25              231\n",
       "26-100            229\n",
       "More than 1000    217\n",
       "100-500           141\n",
       "1-5               129\n",
       "500-1000           53\n",
       "Name: no_employees, dtype: int64"
      ]
     },
     "execution_count": 17,
     "metadata": {},
     "output_type": "execute_result"
    }
   ],
   "source": [
    "df[\"no_employees\"].value_counts()"
   ]
  },
  {
   "cell_type": "code",
   "execution_count": 18,
   "metadata": {},
   "outputs": [],
   "source": [
    "df[\"no_employees\"] = df[\"no_employees\"].apply(str)"
   ]
  },
  {
   "cell_type": "code",
   "execution_count": 19,
   "metadata": {},
   "outputs": [
    {
     "data": {
      "text/plain": [
       "No     706\n",
       "Yes    294\n",
       "Name: remote_work, dtype: int64"
      ]
     },
     "execution_count": 19,
     "metadata": {},
     "output_type": "execute_result"
    }
   ],
   "source": [
    "df[\"remote_work\"].value_counts()"
   ]
  },
  {
   "cell_type": "code",
   "execution_count": 20,
   "metadata": {},
   "outputs": [
    {
     "data": {
      "text/plain": [
       "Index(['s.no', 'Timestamp', 'Age', 'Gender', 'Country', 'state',\n",
       "       'self_employed', 'family_history', 'treatment', 'work_interfere',\n",
       "       'no_employees', 'remote_work', 'tech_company', 'benefits',\n",
       "       'care_options', 'wellness_program', 'seek_help', 'anonymity', 'leave',\n",
       "       'mental_health_consequence', 'phys_health_consequence', 'coworkers',\n",
       "       'supervisor', 'mental_health_interview', 'phys_health_interview',\n",
       "       'mental_vs_physical', 'obs_consequence', 'comments'],\n",
       "      dtype='object')"
      ]
     },
     "execution_count": 20,
     "metadata": {},
     "output_type": "execute_result"
    }
   ],
   "source": [
    "df.columns"
   ]
  },
  {
   "cell_type": "code",
   "execution_count": 21,
   "metadata": {},
   "outputs": [
    {
     "data": {
      "text/plain": [
       "No            508\n",
       "Don't know    296\n",
       "Yes           196\n",
       "Name: seek_help, dtype: int64"
      ]
     },
     "execution_count": 21,
     "metadata": {},
     "output_type": "execute_result"
    }
   ],
   "source": [
    "df[\"seek_help\"].value_counts()"
   ]
  },
  {
   "cell_type": "code",
   "execution_count": 22,
   "metadata": {},
   "outputs": [
    {
     "data": {
      "text/plain": [
       "Don't know    654\n",
       "Yes           295\n",
       "No             51\n",
       "Name: anonymity, dtype: int64"
      ]
     },
     "execution_count": 22,
     "metadata": {},
     "output_type": "execute_result"
    }
   ],
   "source": [
    "df[\"anonymity\"].value_counts()"
   ]
  },
  {
   "cell_type": "code",
   "execution_count": 23,
   "metadata": {},
   "outputs": [
    {
     "data": {
      "text/plain": [
       "Don't know            438\n",
       "Somewhat easy         206\n",
       "Very easy             170\n",
       "Somewhat difficult    106\n",
       "Very difficult         80\n",
       "Name: leave, dtype: int64"
      ]
     },
     "execution_count": 23,
     "metadata": {},
     "output_type": "execute_result"
    }
   ],
   "source": [
    "df[\"leave\"].value_counts()"
   ]
  },
  {
   "cell_type": "code",
   "execution_count": 24,
   "metadata": {},
   "outputs": [
    {
     "data": {
      "text/plain": [
       "No       407\n",
       "Maybe    363\n",
       "Yes      230\n",
       "Name: mental_health_consequence, dtype: int64"
      ]
     },
     "execution_count": 24,
     "metadata": {},
     "output_type": "execute_result"
    }
   ],
   "source": [
    "df[\"mental_health_consequence\"].value_counts()"
   ]
  },
  {
   "cell_type": "code",
   "execution_count": 25,
   "metadata": {},
   "outputs": [],
   "source": [
    "df_c = df.copy()"
   ]
  },
  {
   "cell_type": "code",
   "execution_count": 26,
   "metadata": {},
   "outputs": [],
   "source": [
    "# df_c.columns[df_c.isnull().mean() > 0.002]"
   ]
  },
  {
   "cell_type": "code",
   "execution_count": 27,
   "metadata": {},
   "outputs": [],
   "source": [
    "\n",
    "# df_c.loc[df_c.isnull().mean(axis=1) > 0.1]"
   ]
  },
  {
   "cell_type": "code",
   "execution_count": 28,
   "metadata": {},
   "outputs": [],
   "source": [
    "df_c[\"Age\"] = df_c[\"Age\"].fillna(df_c[\"Age\"].median())"
   ]
  },
  {
   "cell_type": "code",
   "execution_count": 29,
   "metadata": {},
   "outputs": [
    {
     "data": {
      "text/plain": [
       "False"
      ]
     },
     "execution_count": 29,
     "metadata": {},
     "output_type": "execute_result"
    }
   ],
   "source": [
    "df_c[\"Age\"].isnull().any()"
   ]
  },
  {
   "cell_type": "code",
   "execution_count": 30,
   "metadata": {},
   "outputs": [],
   "source": [
    "df_c[\"Age_bin\"] = pd.cut(df_c[\"Age\"],bins=[0,27,36,45,54,100],labels=[\"Age1\",\"Age2\",\"Age3\",\"Age4\",\"Age5\"])"
   ]
  },
  {
   "cell_type": "code",
   "execution_count": 31,
   "metadata": {},
   "outputs": [
    {
     "data": {
      "text/plain": [
       "Age2    484\n",
       "Age1    293\n",
       "Age3    179\n",
       "Age4     30\n",
       "Age5     14\n",
       "Name: Age_bin, dtype: int64"
      ]
     },
     "execution_count": 31,
     "metadata": {},
     "output_type": "execute_result"
    }
   ],
   "source": [
    "df_c[\"Age_bin\"].value_counts()"
   ]
  },
  {
   "cell_type": "code",
   "execution_count": 32,
   "metadata": {},
   "outputs": [],
   "source": [
    "\n",
    "col_2_rem = ['Timestamp','state','comments',\"Age\"]\n",
    "df_c.drop(col_2_rem,axis=1,inplace=True)             "
   ]
  },
  {
   "cell_type": "code",
   "execution_count": 33,
   "metadata": {},
   "outputs": [],
   "source": [
    "# df_c.to_csv(\"clean_data_final.csv\",index=False)"
   ]
  },
  {
   "cell_type": "code",
   "execution_count": 34,
   "metadata": {},
   "outputs": [
    {
     "data": {
      "text/plain": [
       "s.no                         0\n",
       "Gender                       0\n",
       "Country                      0\n",
       "self_employed                0\n",
       "family_history               0\n",
       "treatment                    0\n",
       "work_interfere               0\n",
       "no_employees                 0\n",
       "remote_work                  0\n",
       "tech_company                 0\n",
       "benefits                     0\n",
       "care_options                 0\n",
       "wellness_program             0\n",
       "seek_help                    0\n",
       "anonymity                    0\n",
       "leave                        0\n",
       "mental_health_consequence    0\n",
       "phys_health_consequence      0\n",
       "coworkers                    0\n",
       "supervisor                   0\n",
       "mental_health_interview      0\n",
       "phys_health_interview        0\n",
       "mental_vs_physical           0\n",
       "obs_consequence              0\n",
       "Age_bin                      0\n",
       "dtype: int64"
      ]
     },
     "execution_count": 34,
     "metadata": {},
     "output_type": "execute_result"
    }
   ],
   "source": [
    "df_c.isnull().sum()"
   ]
  },
  {
   "cell_type": "code",
   "execution_count": 35,
   "metadata": {},
   "outputs": [
    {
     "name": "stdout",
     "output_type": "stream",
     "text": [
      "Index(['s.no', 'Gender', 'Country', 'self_employed', 'family_history',\n",
      "       'work_interfere', 'no_employees', 'remote_work', 'tech_company',\n",
      "       'benefits', 'care_options', 'wellness_program', 'seek_help',\n",
      "       'anonymity', 'leave', 'mental_health_consequence',\n",
      "       'phys_health_consequence', 'coworkers', 'supervisor',\n",
      "       'mental_health_interview', 'phys_health_interview',\n",
      "       'mental_vs_physical', 'obs_consequence', 'Age_bin'],\n",
      "      dtype='object')\n"
     ]
    },
    {
     "data": {
      "text/plain": [
       "Index(['treatment'], dtype='object')"
      ]
     },
     "execution_count": 35,
     "metadata": {},
     "output_type": "execute_result"
    }
   ],
   "source": [
    "x_train =df_c.drop([\"treatment\"],axis=1)\n",
    "y_train = pd.DataFrame(columns=[\"treatment\"])\n",
    "y_train[\"treatment\"] = df_c[\"treatment\"]\n",
    "print(x_train.columns)\n",
    "y_train.columns"
   ]
  },
  {
   "cell_type": "code",
   "execution_count": 36,
   "metadata": {},
   "outputs": [
    {
     "data": {
      "text/html": [
       "<div>\n",
       "<style scoped>\n",
       "    .dataframe tbody tr th:only-of-type {\n",
       "        vertical-align: middle;\n",
       "    }\n",
       "\n",
       "    .dataframe tbody tr th {\n",
       "        vertical-align: top;\n",
       "    }\n",
       "\n",
       "    .dataframe thead th {\n",
       "        text-align: right;\n",
       "    }\n",
       "</style>\n",
       "<table border=\"1\" class=\"dataframe\">\n",
       "  <thead>\n",
       "    <tr style=\"text-align: right;\">\n",
       "      <th></th>\n",
       "      <th>treatment</th>\n",
       "    </tr>\n",
       "  </thead>\n",
       "  <tbody>\n",
       "    <tr>\n",
       "      <th>0</th>\n",
       "      <td>Yes</td>\n",
       "    </tr>\n",
       "    <tr>\n",
       "      <th>1</th>\n",
       "      <td>No</td>\n",
       "    </tr>\n",
       "    <tr>\n",
       "      <th>2</th>\n",
       "      <td>No</td>\n",
       "    </tr>\n",
       "    <tr>\n",
       "      <th>3</th>\n",
       "      <td>Yes</td>\n",
       "    </tr>\n",
       "    <tr>\n",
       "      <th>4</th>\n",
       "      <td>No</td>\n",
       "    </tr>\n",
       "  </tbody>\n",
       "</table>\n",
       "</div>"
      ],
      "text/plain": [
       "  treatment\n",
       "0       Yes\n",
       "1        No\n",
       "2        No\n",
       "3       Yes\n",
       "4        No"
      ]
     },
     "execution_count": 36,
     "metadata": {},
     "output_type": "execute_result"
    }
   ],
   "source": [
    "y_train.head()"
   ]
  },
  {
   "cell_type": "code",
   "execution_count": 37,
   "metadata": {},
   "outputs": [
    {
     "data": {
      "text/plain": [
       "LabelEncoder()"
      ]
     },
     "execution_count": 37,
     "metadata": {},
     "output_type": "execute_result"
    }
   ],
   "source": [
    "# Label Encoding our target variable \n",
    "from sklearn.preprocessing import LabelEncoder,OneHotEncoder\n",
    "l=LabelEncoder() \n",
    "l.fit(y_train[\"treatment\"].values) "
   ]
  },
  {
   "cell_type": "code",
   "execution_count": 38,
   "metadata": {},
   "outputs": [
    {
     "data": {
      "text/plain": [
       "Index(['s.no', 'Gender', 'Country', 'self_employed', 'family_history',\n",
       "       'treatment', 'work_interfere', 'no_employees', 'remote_work',\n",
       "       'tech_company', 'benefits', 'care_options', 'wellness_program',\n",
       "       'seek_help', 'anonymity', 'leave', 'mental_health_consequence',\n",
       "       'phys_health_consequence', 'coworkers', 'supervisor',\n",
       "       'mental_health_interview', 'phys_health_interview',\n",
       "       'mental_vs_physical', 'obs_consequence', 'Age_bin'],\n",
       "      dtype='object')"
      ]
     },
     "execution_count": 38,
     "metadata": {},
     "output_type": "execute_result"
    }
   ],
   "source": [
    "df_c.columns"
   ]
  },
  {
   "cell_type": "code",
   "execution_count": 39,
   "metadata": {},
   "outputs": [],
   "source": [
    "WI = pd.get_dummies(df_c.work_interfere.astype('category'),prefix='WI',sparse=True)\n",
    "FH = pd.get_dummies(df_c.family_history.astype('category'),prefix='FH',sparse=True)\n",
    "CO = pd.get_dummies(df_c.care_options.astype('category'),prefix='CO')               \n",
    "# C =  pd.get_dummies(df_c.Country.astype('category'),prefix='C')                              \n",
    "G =  pd.get_dummies(df_c.Gender.astype('category'),prefix='G')                              \n",
    "B =  pd.get_dummies(df_c.benefits.astype('category'),prefix='B')                              \n",
    "CW =  pd.get_dummies(df_c.coworkers.astype('category'),prefix='CW')                              \n",
    "OC = pd.get_dummies(df_c.obs_consequence.astype('category'),prefix='OC')                               \n",
    "AN = pd.get_dummies(df_c.anonymity.astype('category'),prefix='AN',sparse=True)                               \n",
    "LE = pd.get_dummies(df_c.leave.astype('category'),prefix='LE')                               \n",
    "Pred = y_train               "
   ]
  },
  {
   "cell_type": "code",
   "execution_count": 40,
   "metadata": {},
   "outputs": [],
   "source": [
    "imp_columns = [\"work_interfere\",\"family_history\",\"care_options\",\"Gender\",\"benefits\",\"coworkers\",\"obs_consequence\",\"anonymity\",\"leave\"]\n",
    "target = \"treatment\""
   ]
  },
  {
   "cell_type": "code",
   "execution_count": 41,
   "metadata": {},
   "outputs": [],
   "source": [
    "df_c_OH = pd.concat([WI,FH,CO,G,B,CW,OC,AN,LE,Pred],axis=1) \n"
   ]
  },
  {
   "cell_type": "code",
   "execution_count": null,
   "metadata": {},
   "outputs": [],
   "source": [
    "x_training =df_c_OH.drop([\"treatment\"],axis=1)\n",
    "y_training = pd.DataFrame(columns=[\"treatment\"])\n",
    "y_training[\"treatment\"] = df_c_OH[\"treatment\"]\n",
    "print(x_training.columns)\n",
    "y_training.columns"
   ]
  },
  {
   "cell_type": "code",
   "execution_count": 42,
   "metadata": {},
   "outputs": [],
   "source": [
    "from sklearn.model_selection import train_test_split\n",
    "training, validation = train_test_split(df_c_OH, test_size=0.3, random_state=0)\n",
    "train_x = training"
   ]
  },
  {
   "cell_type": "code",
   "execution_count": 43,
   "metadata": {},
   "outputs": [],
   "source": [
    "df_test = pd.read_csv(\"clean_final_T.csv\")"
   ]
  },
  {
   "cell_type": "code",
   "execution_count": 44,
   "metadata": {},
   "outputs": [],
   "source": [
    "df_test_col = df_test[imp_columns]\n"
   ]
  },
  {
   "cell_type": "code",
   "execution_count": 45,
   "metadata": {},
   "outputs": [],
   "source": [
    "WI_T = pd.get_dummies(df_test_col.work_interfere.astype('category'),prefix='WI',sparse=True)\n",
    "FH_T = pd.get_dummies(df_test_col.family_history.astype('category'),prefix='FH',sparse=True)\n",
    "CO_T = pd.get_dummies(df_test_col.care_options.astype('category'),prefix='CO')               \n",
    "# C =  pd.get_dummies(df_c.Country.astype('category'),prefix='C')                              \n",
    "G_T =  pd.get_dummies(df_test_col.Gender.astype('category'),prefix='G')                              \n",
    "B_T =  pd.get_dummies(df_test_col.benefits.astype('category'),prefix='B')                              \n",
    "CW_T =  pd.get_dummies(df_test_col.coworkers.astype('category'),prefix='CW')                              \n",
    "OC_T = pd.get_dummies(df_test_col.obs_consequence.astype('category'),prefix='OC')                               \n",
    "AN_T = pd.get_dummies(df_test_col.anonymity.astype('category'),prefix='AN',sparse=True)                               \n",
    "LE_T = pd.get_dummies(df_test_col.leave.astype('category'),prefix='LE')                               \n",
    "                "
   ]
  },
  {
   "cell_type": "code",
   "execution_count": 46,
   "metadata": {},
   "outputs": [],
   "source": [
    "df_c_OH_Test = pd.concat([WI_T,FH_T,CO_T,G_T,B_T,CW_T,OC_T,AN_T,LE_T],axis=1) "
   ]
  },
  {
   "cell_type": "code",
   "execution_count": 47,
   "metadata": {},
   "outputs": [
    {
     "name": "stderr",
     "output_type": "stream",
     "text": [
      "C:\\Users\\Vibhash-CRM\\Anaconda3\\lib\\site-packages\\sklearn\\ensemble\\forest.py:246: FutureWarning: The default value of n_estimators will change from 10 in version 0.20 to 100 in 0.22.\n",
      "  \"10 in version 0.20 to 100 in 0.22.\", FutureWarning)\n",
      "C:\\Users\\Vibhash-CRM\\Anaconda3\\lib\\site-packages\\ipykernel_launcher.py:4: DataConversionWarning: A column-vector y was passed when a 1d array was expected. Please change the shape of y to (n_samples,), for example using ravel().\n",
      "  after removing the cwd from sys.path.\n"
     ]
    },
    {
     "data": {
      "text/plain": [
       "RandomForestClassifier(bootstrap=True, class_weight=None, criterion='gini',\n",
       "            max_depth=6, max_features='auto', max_leaf_nodes=None,\n",
       "            min_impurity_decrease=0.0, min_impurity_split=1e-07,\n",
       "            min_samples_leaf=1, min_samples_split=2,\n",
       "            min_weight_fraction_leaf=0.0, n_estimators=10, n_jobs=2,\n",
       "            oob_score=False, random_state=0, verbose=0, warm_start=False)"
      ]
     },
     "execution_count": 47,
     "metadata": {},
     "output_type": "execute_result"
    }
   ],
   "source": [
    "from sklearn.ensemble import RandomForestClassifier\n",
    "clf = RandomForestClassifier(n_jobs=2, random_state=0)\n",
    "\n",
    "clf.fit(df_c_OH, y_train)\n",
    "RandomForestClassifier(bootstrap=True, class_weight=None, criterion='gini',\n",
    "            max_depth=6, max_features='auto', max_leaf_nodes=None,\n",
    "            min_impurity_split=1e-07, min_samples_leaf=1,\n",
    "            min_samples_split=2, min_weight_fraction_leaf=0.0,\n",
    "            n_estimators=10, n_jobs=2, oob_score=False, random_state=0,\n",
    "            verbose=0, warm_start=False)"
   ]
  },
  {
   "cell_type": "code",
   "execution_count": 48,
   "metadata": {},
   "outputs": [],
   "source": [
    "pred_valid = clf.predict(validation)"
   ]
  },
  {
   "cell_type": "code",
   "execution_count": 50,
   "metadata": {},
   "outputs": [],
   "source": [
    "from sklearn.metrics import f1_score\n",
    "f1_model1=f1_score(validation[\"\"],y_pred1,average='weighted',labels=np.unique(y_pred1))"
   ]
  },
  {
   "cell_type": "code",
   "execution_count": 51,
   "metadata": {},
   "outputs": [],
   "source": [
    "preds=clf.predict(df_c_OH_Test)"
   ]
  },
  {
   "cell_type": "code",
   "execution_count": 52,
   "metadata": {},
   "outputs": [
    {
     "data": {
      "text/plain": [
       "(259,)"
      ]
     },
     "execution_count": 52,
     "metadata": {},
     "output_type": "execute_result"
    }
   ],
   "source": [
    "preds.shape"
   ]
  },
  {
   "cell_type": "code",
   "execution_count": 53,
   "metadata": {},
   "outputs": [],
   "source": [
    "final = pd.DataFrame(columns=[\"s.no\",\"treatment\"])\n",
    "final[\"s.no\"] = df_test[\"s.no\"]\n",
    "final[\"treatment\"] = preds\n",
    "final.to_csv(\"solution_h2O_final_RF.csv\",index=False)"
   ]
  },
  {
   "cell_type": "code",
   "execution_count": null,
   "metadata": {},
   "outputs": [],
   "source": [
    "from sklearn import tree\n",
    "import graphviz\n",
    "\n",
    "outfile = 'ourtree.dot'\n",
    "dot_data = tree.export_graphviz(clf, out_file=outfile,\n",
    "                                feature_names=df_c_OH.columns,  \n",
    "                                class_names=['0','1','2','3','4'],  \n",
    "                                filled=True, rounded=True, max_depth=4, \n",
    "                                special_characters=True) "
   ]
  },
  {
   "cell_type": "code",
   "execution_count": 56,
   "metadata": {},
   "outputs": [],
   "source": [
    "import numpy as np\n",
    "importances = clf.feature_importances_\n",
    "std = np.std([tree.feature_importances_ for tree in clf.estimators_],\n",
    "             axis=0)\n",
    "indices = np.argsort(importances)"
   ]
  },
  {
   "cell_type": "code",
   "execution_count": 63,
   "metadata": {},
   "outputs": [
    {
     "data": {
      "text/plain": [
       "<matplotlib.axes._subplots.AxesSubplot at 0x25b31904748>"
      ]
     },
     "execution_count": 63,
     "metadata": {},
     "output_type": "execute_result"
    },
    {
     "data": {
      "image/png": "[encoded data removed]",
      "text/plain": [
       "<Figure size 432x288 with 1 Axes>"
      ]
     },
     "metadata": {
      "needs_background": "light"
     },
     "output_type": "display_data"
    }
   ],
   "source": [
    "feat_importances = pd.Series(clf.feature_importances_, index=df_c_OH.columns)\n",
    "feat_importances.nlargest(20).plot(kind='barh')"
   ]
  },
  {
   "cell_type": "code",
   "execution_count": null,
   "metadata": {},
   "outputs": [],
   "source": []
  }
 ],
 "metadata": {
  "kernelspec": {
   "display_name": "Python 3",
   "language": "python",
   "name": "python3"
  },
  "language_info": {
   "codemirror_mode": {
    "name": "ipython",
    "version": 3
   },
   "file_extension": ".py",
   "mimetype": "text/x-python",
   "name": "python",
   "nbconvert_exporter": "python",
   "pygments_lexer": "ipython3",
   "version": "3.7.3"
  }
 },
 "nbformat": 4,
 "nbformat_minor": 2
}
