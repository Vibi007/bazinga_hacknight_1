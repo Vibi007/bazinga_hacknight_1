{
 "cells": [
  {
   "cell_type": "code",
   "execution_count": 227,
   "metadata": {},
   "outputs": [],
   "source": [
    "# Import libraries\n",
    "import pandas as pd\n",
    "import numpy as np"
   ]
  },
  {
   "cell_type": "code",
   "execution_count": 228,
   "metadata": {},
   "outputs": [],
   "source": [
    "# Load Data\n",
    "df = pd.read_csv('trainms.csv')"
   ]
  },
  {
   "cell_type": "code",
   "execution_count": 229,
   "metadata": {},
   "outputs": [
    {
     "data": {
      "text/html": [
       "<div>\n",
       "<style scoped>\n",
       "    .dataframe tbody tr th:only-of-type {\n",
       "        vertical-align: middle;\n",
       "    }\n",
       "\n",
       "    .dataframe tbody tr th {\n",
       "        vertical-align: top;\n",
       "    }\n",
       "\n",
       "    .dataframe thead th {\n",
       "        text-align: right;\n",
       "    }\n",
       "</style>\n",
       "<table border=\"1\" class=\"dataframe\">\n",
       "  <thead>\n",
       "    <tr style=\"text-align: right;\">\n",
       "      <th></th>\n",
       "      <th>s.no</th>\n",
       "      <th>Timestamp</th>\n",
       "      <th>Age</th>\n",
       "      <th>Gender</th>\n",
       "      <th>Country</th>\n",
       "      <th>state</th>\n",
       "      <th>self_employed</th>\n",
       "      <th>family_history</th>\n",
       "      <th>treatment</th>\n",
       "      <th>work_interfere</th>\n",
       "      <th>...</th>\n",
       "      <th>leave</th>\n",
       "      <th>mental_health_consequence</th>\n",
       "      <th>phys_health_consequence</th>\n",
       "      <th>coworkers</th>\n",
       "      <th>supervisor</th>\n",
       "      <th>mental_health_interview</th>\n",
       "      <th>phys_health_interview</th>\n",
       "      <th>mental_vs_physical</th>\n",
       "      <th>obs_consequence</th>\n",
       "      <th>comments</th>\n",
       "    </tr>\n",
       "  </thead>\n",
       "  <tbody>\n",
       "    <tr>\n",
       "      <th>0</th>\n",
       "      <td>1</td>\n",
       "      <td>2014-08-27 11:29:31</td>\n",
       "      <td>37</td>\n",
       "      <td>Female</td>\n",
       "      <td>United States</td>\n",
       "      <td>IL</td>\n",
       "      <td>NaN</td>\n",
       "      <td>No</td>\n",
       "      <td>Yes</td>\n",
       "      <td>Often</td>\n",
       "      <td>...</td>\n",
       "      <td>Somewhat easy</td>\n",
       "      <td>No</td>\n",
       "      <td>No</td>\n",
       "      <td>Some of them</td>\n",
       "      <td>Yes</td>\n",
       "      <td>No</td>\n",
       "      <td>Maybe</td>\n",
       "      <td>Yes</td>\n",
       "      <td>No</td>\n",
       "      <td>NaN</td>\n",
       "    </tr>\n",
       "    <tr>\n",
       "      <th>1</th>\n",
       "      <td>2</td>\n",
       "      <td>2014-08-27 11:29:37</td>\n",
       "      <td>44</td>\n",
       "      <td>M</td>\n",
       "      <td>United States</td>\n",
       "      <td>IN</td>\n",
       "      <td>NaN</td>\n",
       "      <td>No</td>\n",
       "      <td>No</td>\n",
       "      <td>Rarely</td>\n",
       "      <td>...</td>\n",
       "      <td>Don't know</td>\n",
       "      <td>Maybe</td>\n",
       "      <td>No</td>\n",
       "      <td>No</td>\n",
       "      <td>No</td>\n",
       "      <td>No</td>\n",
       "      <td>No</td>\n",
       "      <td>Don't know</td>\n",
       "      <td>No</td>\n",
       "      <td>NaN</td>\n",
       "    </tr>\n",
       "    <tr>\n",
       "      <th>2</th>\n",
       "      <td>3</td>\n",
       "      <td>2014-08-27 11:29:44</td>\n",
       "      <td>32</td>\n",
       "      <td>Male</td>\n",
       "      <td>Canada</td>\n",
       "      <td>NaN</td>\n",
       "      <td>NaN</td>\n",
       "      <td>No</td>\n",
       "      <td>No</td>\n",
       "      <td>Rarely</td>\n",
       "      <td>...</td>\n",
       "      <td>Somewhat difficult</td>\n",
       "      <td>No</td>\n",
       "      <td>No</td>\n",
       "      <td>Yes</td>\n",
       "      <td>Yes</td>\n",
       "      <td>Yes</td>\n",
       "      <td>Yes</td>\n",
       "      <td>No</td>\n",
       "      <td>No</td>\n",
       "      <td>NaN</td>\n",
       "    </tr>\n",
       "    <tr>\n",
       "      <th>3</th>\n",
       "      <td>4</td>\n",
       "      <td>2014-08-27 11:29:46</td>\n",
       "      <td>31</td>\n",
       "      <td>Male</td>\n",
       "      <td>United Kingdom</td>\n",
       "      <td>NaN</td>\n",
       "      <td>NaN</td>\n",
       "      <td>Yes</td>\n",
       "      <td>Yes</td>\n",
       "      <td>Often</td>\n",
       "      <td>...</td>\n",
       "      <td>Somewhat difficult</td>\n",
       "      <td>Yes</td>\n",
       "      <td>Yes</td>\n",
       "      <td>Some of them</td>\n",
       "      <td>No</td>\n",
       "      <td>Maybe</td>\n",
       "      <td>Maybe</td>\n",
       "      <td>No</td>\n",
       "      <td>Yes</td>\n",
       "      <td>NaN</td>\n",
       "    </tr>\n",
       "    <tr>\n",
       "      <th>4</th>\n",
       "      <td>5</td>\n",
       "      <td>2014-08-27 11:30:22</td>\n",
       "      <td>31</td>\n",
       "      <td>Male</td>\n",
       "      <td>United States</td>\n",
       "      <td>TX</td>\n",
       "      <td>NaN</td>\n",
       "      <td>No</td>\n",
       "      <td>No</td>\n",
       "      <td>Never</td>\n",
       "      <td>...</td>\n",
       "      <td>Don't know</td>\n",
       "      <td>No</td>\n",
       "      <td>No</td>\n",
       "      <td>Some of them</td>\n",
       "      <td>Yes</td>\n",
       "      <td>Yes</td>\n",
       "      <td>Yes</td>\n",
       "      <td>Don't know</td>\n",
       "      <td>No</td>\n",
       "      <td>NaN</td>\n",
       "    </tr>\n",
       "  </tbody>\n",
       "</table>\n",
       "<p>5 rows × 28 columns</p>\n",
       "</div>"
      ],
      "text/plain": [
       "   s.no            Timestamp  Age  Gender         Country state self_employed  \\\n",
       "0     1  2014-08-27 11:29:31   37  Female   United States    IL           NaN   \n",
       "1     2  2014-08-27 11:29:37   44       M   United States    IN           NaN   \n",
       "2     3  2014-08-27 11:29:44   32    Male          Canada   NaN           NaN   \n",
       "3     4  2014-08-27 11:29:46   31    Male  United Kingdom   NaN           NaN   \n",
       "4     5  2014-08-27 11:30:22   31    Male   United States    TX           NaN   \n",
       "\n",
       "  family_history treatment work_interfere  ...               leave  \\\n",
       "0             No       Yes          Often  ...       Somewhat easy   \n",
       "1             No        No         Rarely  ...          Don't know   \n",
       "2             No        No         Rarely  ...  Somewhat difficult   \n",
       "3            Yes       Yes          Often  ...  Somewhat difficult   \n",
       "4             No        No          Never  ...          Don't know   \n",
       "\n",
       "  mental_health_consequence phys_health_consequence     coworkers supervisor  \\\n",
       "0                        No                      No  Some of them        Yes   \n",
       "1                     Maybe                      No            No         No   \n",
       "2                        No                      No           Yes        Yes   \n",
       "3                       Yes                     Yes  Some of them         No   \n",
       "4                        No                      No  Some of them        Yes   \n",
       "\n",
       "  mental_health_interview phys_health_interview mental_vs_physical  \\\n",
       "0                      No                 Maybe                Yes   \n",
       "1                      No                    No         Don't know   \n",
       "2                     Yes                   Yes                 No   \n",
       "3                   Maybe                 Maybe                 No   \n",
       "4                     Yes                   Yes         Don't know   \n",
       "\n",
       "  obs_consequence comments  \n",
       "0              No      NaN  \n",
       "1              No      NaN  \n",
       "2              No      NaN  \n",
       "3             Yes      NaN  \n",
       "4              No      NaN  \n",
       "\n",
       "[5 rows x 28 columns]"
      ]
     },
     "execution_count": 229,
     "metadata": {},
     "output_type": "execute_result"
    }
   ],
   "source": [
    "df.head()"
   ]
  },
  {
   "cell_type": "code",
   "execution_count": 230,
   "metadata": {},
   "outputs": [
    {
     "data": {
      "text/plain": [
       "array(['s.no', 'Timestamp', 'Age', 'Gender', 'Country', 'state',\n",
       "       'self_employed', 'family_history', 'treatment', 'work_interfere',\n",
       "       'no_employees', 'remote_work', 'tech_company', 'benefits',\n",
       "       'care_options', 'wellness_program', 'seek_help', 'anonymity',\n",
       "       'leave', 'mental_health_consequence', 'phys_health_consequence',\n",
       "       'coworkers', 'supervisor', 'mental_health_interview',\n",
       "       'phys_health_interview', 'mental_vs_physical', 'obs_consequence',\n",
       "       'comments'], dtype=object)"
      ]
     },
     "execution_count": 230,
     "metadata": {},
     "output_type": "execute_result"
    }
   ],
   "source": [
    "df.columns.values"
   ]
  },
  {
   "cell_type": "code",
   "execution_count": 231,
   "metadata": {},
   "outputs": [],
   "source": [
    "# Convert time stamp column data type to datetime\n",
    "df['Timestamp'] = pd.to_datetime(df['Timestamp'])\n",
    "df['Timestamp'] = df['Timestamp'].dt.date"
   ]
  },
  {
   "cell_type": "code",
   "execution_count": null,
   "metadata": {},
   "outputs": [],
   "source": []
  },
  {
   "cell_type": "code",
   "execution_count": 232,
   "metadata": {},
   "outputs": [],
   "source": [
    "# convert invalid data to NaN\n",
    "df.loc[(df['Age'] < 18) |  (df['Age'] > 80),\"Age\"]  = np.nan"
   ]
  },
  {
   "cell_type": "code",
   "execution_count": 233,
   "metadata": {},
   "outputs": [
    {
     "data": {
      "text/plain": [
       "Series([], Name: Age, dtype: float64)"
      ]
     },
     "execution_count": 233,
     "metadata": {},
     "output_type": "execute_result"
    }
   ],
   "source": [
    "df.loc[(df['Age'] < 18) |  (df['Age'] > 80),\"Age\"]"
   ]
  },
  {
   "cell_type": "code",
   "execution_count": 234,
   "metadata": {},
   "outputs": [],
   "source": [
    "# \n",
    "# df['Gender'].value_counts()\n",
    "M_list = [\"male\",\"m\",\"Make\",\"Cis Male\",\"Man\",\"Mal\",\"Male-ish\",\"maile\",\"male leaning androgynous\",\"msle\",\"Mail\",\"cis male\",\"Malr\"]\n",
    "F_list = [\"Female\",\"f\",\"woman\",\"cis female\",\"femake\",\"cis-female/femme\",\"female (cis)\",\"femail\"]\n",
    "T_list = [\"queer\",\"trans-female\",\"female (trans)\",\"neuter\",\"non-binary\",\"enby\",\"genderqueer\",\"agender\",\"androgyne\",\"trans woman\",\"fluid\",\"ostensibly male, unsure what that really means\",\"something kinda male?\",\"Guy (-ish) ^_^\",\"nah\",\"a little about you\",\"p\"]"
   ]
  },
  {
   "cell_type": "code",
   "execution_count": 235,
   "metadata": {},
   "outputs": [
    {
     "data": {
      "text/plain": [
       "male                        659\n",
       "female                      139\n",
       "m                           121\n",
       "f                            44\n",
       "make                          4\n",
       "woman                         3\n",
       "cis male                      3\n",
       "man                           2\n",
       "cis female                    1\n",
       "queer                         1\n",
       "mail                          1\n",
       "trans-female                  1\n",
       "nah                           1\n",
       "female (trans)                1\n",
       "neuter                        1\n",
       "non-binary                    1\n",
       "enby                          1\n",
       "maile                         1\n",
       "genderqueer                   1\n",
       "male leaning androgynous      1\n",
       "msle                          1\n",
       "a little about you            1\n",
       "agender                       1\n",
       "femake                        1\n",
       "cis-female/femme              1\n",
       "guy (-ish) ^_^                1\n",
       "androgyne                     1\n",
       "female (cis)                  1\n",
       "trans woman                   1\n",
       "fluid                         1\n",
       "something kinda male?         1\n",
       "mal                           1\n",
       "male-ish                      1\n",
       "Name: Gender, dtype: int64"
      ]
     },
     "execution_count": 235,
     "metadata": {},
     "output_type": "execute_result"
    }
   ],
   "source": [
    "df['Gender'].str.lower().str.strip().value_counts()"
   ]
  },
  {
   "cell_type": "code",
   "execution_count": 236,
   "metadata": {},
   "outputs": [],
   "source": [
    "df.loc[df['Gender'].str.lower().str.strip().isin([x.lower().strip() for x in M_list]),\"Gender\"] = \"M\"\n",
    "df.loc[df['Gender'].str.lower().str.strip().isin([x.lower().strip() for x in F_list]),\"Gender\"] = \"F\"\n",
    "df.loc[df['Gender'].str.lower().str.strip().isin([x.lower().strip() for x in T_list]),\"Gender\"] = \"T\"\n",
    "# df.loc[df['Gender'].isin([M_list]),\"Gender\"]=\"M\""
   ]
  },
  {
   "cell_type": "code",
   "execution_count": 237,
   "metadata": {},
   "outputs": [],
   "source": [
    "#Set state NaN if country not United States\n",
    "df.loc[(df[\"Country\"] != \"United States\"),\"state\"] = \"Other\""
   ]
  },
  {
   "cell_type": "code",
   "execution_count": 238,
   "metadata": {},
   "outputs": [],
   "source": [
    "df.loc[(df[\"state\"].isnull()),\"state\"] = \"Other\"\n",
    "df.loc[(df[\"self_employed\"].isnull()),\"self_employed\"] = \"Other\""
   ]
  },
  {
   "cell_type": "code",
   "execution_count": 239,
   "metadata": {},
   "outputs": [
    {
     "name": "stdout",
     "output_type": "stream",
     "text": [
      "Other    403\n",
      "CA       119\n",
      "WA        59\n",
      "NY        46\n",
      "TX        37\n",
      "TN        36\n",
      "OR        23\n",
      "PA        23\n",
      "OH        22\n",
      "MA        20\n",
      "IL        20\n",
      "MI        19\n",
      "IN        15\n",
      "MN        14\n",
      "VA        12\n",
      "MO        11\n",
      "GA        10\n",
      "CO         9\n",
      "NC         9\n",
      "FL         9\n",
      "WI         9\n",
      "AZ         7\n",
      "UT         6\n",
      "MD         6\n",
      "KY         5\n",
      "OK         5\n",
      "DC         4\n",
      "IA         4\n",
      "SC         4\n",
      "AL         4\n",
      "NV         3\n",
      "CT         3\n",
      "NJ         3\n",
      "NH         3\n",
      "KS         3\n",
      "NE         2\n",
      "NM         2\n",
      "VT         2\n",
      "WY         2\n",
      "ID         1\n",
      "MS         1\n",
      "RI         1\n",
      "WV         1\n",
      "ME         1\n",
      "LA         1\n",
      "SD         1\n",
      "Name: state, dtype: int64\n"
     ]
    },
    {
     "data": {
      "text/plain": [
       "No       859\n",
       "Yes      123\n",
       "Other     18\n",
       "Name: self_employed, dtype: int64"
      ]
     },
     "execution_count": 239,
     "metadata": {},
     "output_type": "execute_result"
    }
   ],
   "source": [
    "print(df[\"state\"].value_counts())\n",
    "df[\"self_employed\"].value_counts()"
   ]
  },
  {
   "cell_type": "code",
   "execution_count": 240,
   "metadata": {},
   "outputs": [
    {
     "data": {
      "text/plain": [
       "No     619\n",
       "Yes    381\n",
       "Name: family_history, dtype: int64"
      ]
     },
     "execution_count": 240,
     "metadata": {},
     "output_type": "execute_result"
    }
   ],
   "source": [
    "df[\"family_history\"].value_counts()"
   ]
  },
  {
   "cell_type": "code",
   "execution_count": 241,
   "metadata": {},
   "outputs": [
    {
     "data": {
      "text/plain": [
       "Sometimes    362\n",
       "Never        171\n",
       "Rarely       142\n",
       "Often         99\n",
       "Name: work_interfere, dtype: int64"
      ]
     },
     "execution_count": 241,
     "metadata": {},
     "output_type": "execute_result"
    }
   ],
   "source": [
    "df[\"work_interfere\"].value_counts()"
   ]
  },
  {
   "cell_type": "code",
   "execution_count": 242,
   "metadata": {},
   "outputs": [],
   "source": [
    "df.loc[(df[\"work_interfere\"].isnull() ),\"work_interfere\"] = \"Not Ill\""
   ]
  },
  {
   "cell_type": "code",
   "execution_count": 243,
   "metadata": {},
   "outputs": [
    {
     "data": {
      "text/plain": [
       "6-25              231\n",
       "26-100            229\n",
       "More than 1000    217\n",
       "100-500           141\n",
       "1-5               129\n",
       "500-1000           53\n",
       "Name: no_employees, dtype: int64"
      ]
     },
     "execution_count": 243,
     "metadata": {},
     "output_type": "execute_result"
    }
   ],
   "source": [
    "df[\"no_employees\"].value_counts()"
   ]
  },
  {
   "cell_type": "code",
   "execution_count": 244,
   "metadata": {},
   "outputs": [],
   "source": [
    "df[\"no_employees\"] = df[\"no_employees\"].apply(str)"
   ]
  },
  {
   "cell_type": "code",
   "execution_count": 245,
   "metadata": {},
   "outputs": [
    {
     "data": {
      "text/plain": [
       "No     706\n",
       "Yes    294\n",
       "Name: remote_work, dtype: int64"
      ]
     },
     "execution_count": 245,
     "metadata": {},
     "output_type": "execute_result"
    }
   ],
   "source": [
    "df[\"remote_work\"].value_counts()"
   ]
  },
  {
   "cell_type": "code",
   "execution_count": 246,
   "metadata": {},
   "outputs": [
    {
     "data": {
      "text/plain": [
       "Index(['s.no', 'Timestamp', 'Age', 'Gender', 'Country', 'state',\n",
       "       'self_employed', 'family_history', 'treatment', 'work_interfere',\n",
       "       'no_employees', 'remote_work', 'tech_company', 'benefits',\n",
       "       'care_options', 'wellness_program', 'seek_help', 'anonymity', 'leave',\n",
       "       'mental_health_consequence', 'phys_health_consequence', 'coworkers',\n",
       "       'supervisor', 'mental_health_interview', 'phys_health_interview',\n",
       "       'mental_vs_physical', 'obs_consequence', 'comments'],\n",
       "      dtype='object')"
      ]
     },
     "execution_count": 246,
     "metadata": {},
     "output_type": "execute_result"
    }
   ],
   "source": [
    "df.columns"
   ]
  },
  {
   "cell_type": "code",
   "execution_count": 247,
   "metadata": {},
   "outputs": [
    {
     "data": {
      "text/plain": [
       "No            508\n",
       "Don't know    296\n",
       "Yes           196\n",
       "Name: seek_help, dtype: int64"
      ]
     },
     "execution_count": 247,
     "metadata": {},
     "output_type": "execute_result"
    }
   ],
   "source": [
    "df[\"seek_help\"].value_counts()"
   ]
  },
  {
   "cell_type": "code",
   "execution_count": 248,
   "metadata": {},
   "outputs": [
    {
     "data": {
      "text/plain": [
       "Don't know    654\n",
       "Yes           295\n",
       "No             51\n",
       "Name: anonymity, dtype: int64"
      ]
     },
     "execution_count": 248,
     "metadata": {},
     "output_type": "execute_result"
    }
   ],
   "source": [
    "df[\"anonymity\"].value_counts()"
   ]
  },
  {
   "cell_type": "code",
   "execution_count": 249,
   "metadata": {},
   "outputs": [
    {
     "data": {
      "text/plain": [
       "Don't know            438\n",
       "Somewhat easy         206\n",
       "Very easy             170\n",
       "Somewhat difficult    106\n",
       "Very difficult         80\n",
       "Name: leave, dtype: int64"
      ]
     },
     "execution_count": 249,
     "metadata": {},
     "output_type": "execute_result"
    }
   ],
   "source": [
    "df[\"leave\"].value_counts()"
   ]
  },
  {
   "cell_type": "code",
   "execution_count": 250,
   "metadata": {},
   "outputs": [
    {
     "data": {
      "text/plain": [
       "No       407\n",
       "Maybe    363\n",
       "Yes      230\n",
       "Name: mental_health_consequence, dtype: int64"
      ]
     },
     "execution_count": 250,
     "metadata": {},
     "output_type": "execute_result"
    }
   ],
   "source": [
    "df[\"mental_health_consequence\"].value_counts()"
   ]
  },
  {
   "cell_type": "code",
   "execution_count": 251,
   "metadata": {},
   "outputs": [],
   "source": [
    "df_c = df.copy()"
   ]
  },
  {
   "cell_type": "code",
   "execution_count": 252,
   "metadata": {},
   "outputs": [],
   "source": [
    "# df_c.columns[df_c.isnull().mean() > 0.002]"
   ]
  },
  {
   "cell_type": "code",
   "execution_count": 253,
   "metadata": {},
   "outputs": [],
   "source": [
    "\n",
    "# df_c.loc[df_c.isnull().mean(axis=1) > 0.1]"
   ]
  },
  {
   "cell_type": "code",
   "execution_count": 254,
   "metadata": {},
   "outputs": [],
   "source": [
    "df_c[\"Age\"] = df_c[\"Age\"].fillna(df_c[\"Age\"].median())"
   ]
  },
  {
   "cell_type": "code",
   "execution_count": 255,
   "metadata": {},
   "outputs": [
    {
     "data": {
      "text/plain": [
       "False"
      ]
     },
     "execution_count": 255,
     "metadata": {},
     "output_type": "execute_result"
    }
   ],
   "source": [
    "df_c[\"Age\"].isnull().any()"
   ]
  },
  {
   "cell_type": "code",
   "execution_count": 256,
   "metadata": {},
   "outputs": [],
   "source": [
    "df_c[\"Age_bin\"] = pd.cut(df_c[\"Age\"],bins=[0,27,36,45,54,100],labels=[\"Age1\",\"Age2\",\"Age3\",\"Age4\",\"Age5\"])"
   ]
  },
  {
   "cell_type": "code",
   "execution_count": 257,
   "metadata": {},
   "outputs": [
    {
     "data": {
      "text/plain": [
       "Age2    484\n",
       "Age1    293\n",
       "Age3    179\n",
       "Age4     30\n",
       "Age5     14\n",
       "Name: Age_bin, dtype: int64"
      ]
     },
     "execution_count": 257,
     "metadata": {},
     "output_type": "execute_result"
    }
   ],
   "source": [
    "df_c[\"Age_bin\"].value_counts()"
   ]
  },
  {
   "cell_type": "code",
   "execution_count": 258,
   "metadata": {},
   "outputs": [],
   "source": [
    "\n",
    "col_2_rem = ['s.no', 'Timestamp','state','comments',\"Age\"]\n",
    "df_c.drop(col_2_rem,axis=1,inplace=True)             "
   ]
  },
  {
   "cell_type": "code",
   "execution_count": 259,
   "metadata": {},
   "outputs": [],
   "source": [
    "df_c.to_csv(\"clean_data_final.csv\",index=False)"
   ]
  },
  {
   "cell_type": "code",
   "execution_count": 260,
   "metadata": {},
   "outputs": [
    {
     "data": {
      "text/plain": [
       "Index(['Gender', 'Country', 'self_employed', 'family_history', 'treatment',\n",
       "       'work_interfere', 'no_employees', 'remote_work', 'tech_company',\n",
       "       'benefits', 'care_options', 'wellness_program', 'seek_help',\n",
       "       'anonymity', 'leave', 'mental_health_consequence',\n",
       "       'phys_health_consequence', 'coworkers', 'supervisor',\n",
       "       'mental_health_interview', 'phys_health_interview',\n",
       "       'mental_vs_physical', 'obs_consequence', 'Age_bin'],\n",
       "      dtype='object')"
      ]
     },
     "execution_count": 260,
     "metadata": {},
     "output_type": "execute_result"
    }
   ],
   "source": [
    "df_c.columns"
   ]
  },
  {
   "cell_type": "code",
   "execution_count": null,
   "metadata": {},
   "outputs": [],
   "source": []
  }
 ],
 "metadata": {
  "kernelspec": {
   "display_name": "Python 3",
   "language": "python",
   "name": "python3"
  },
  "language_info": {
   "codemirror_mode": {
    "name": "ipython",
    "version": 3
   },
   "file_extension": ".py",
   "mimetype": "text/x-python",
   "name": "python",
   "nbconvert_exporter": "python",
   "pygments_lexer": "ipython3",
   "version": "3.7.3"
  }
 },
 "nbformat": 4,
 "nbformat_minor": 2
}
